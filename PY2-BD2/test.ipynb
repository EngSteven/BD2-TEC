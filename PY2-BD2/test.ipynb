{
 "cells": [
  {
   "cell_type": "markdown",
   "metadata": {},
   "source": [
    "### Se realiza la conexión y carga de datos al neo4j"
   ]
  },
  {
   "cell_type": "code",
   "execution_count": 1,
   "metadata": {},
   "outputs": [],
   "source": [
    "import neo4j as neo\n",
    "dataset = \"dataset.xlsx\"\n",
    "neo.main(dataset)"
   ]
  },
  {
   "cell_type": "markdown",
   "metadata": {},
   "source": [
    "### Se realiza la extracción de datos, cálculos de consultas con spark y se almacena en posgresql"
   ]
  },
  {
   "cell_type": "code",
   "execution_count": 2,
   "metadata": {},
   "outputs": [
    {
     "name": "stdout",
     "output_type": "stream",
     "text": [
      "Datos extraidos de Neo4j\n",
      "\n",
      "+-----------+----------+------------------+\n",
      "|customer_id|product_id|transaction_amount|\n",
      "+-----------+----------+------------------+\n",
      "|       1817|         2|            590.26|\n",
      "|       2750|         2|            590.26|\n",
      "|        606|         2|             71.49|\n",
      "|       3111|         2|             71.49|\n",
      "|       3083|         2|             71.49|\n",
      "|       2537|         2|             71.49|\n",
      "|       2496|         2|             71.49|\n",
      "|       1035|         2|             71.49|\n",
      "|        403|         2|             71.49|\n",
      "|       2638|         2|             71.49|\n",
      "|         45|         2|             71.49|\n",
      "|        398|         2|             71.49|\n",
      "|        635|         2|             71.49|\n",
      "|         15|         2|             71.49|\n",
      "|        554|         2|             71.49|\n",
      "|       1545|         2|             71.49|\n",
      "|        197|         2|            590.26|\n",
      "|        442|         2|             71.49|\n",
      "|       1574|         2|             71.49|\n",
      "|       1289|         2|             71.49|\n",
      "+-----------+----------+------------------+\n",
      "only showing top 20 rows\n",
      "\n",
      "\n",
      "Resultado del procesamiento de datos en Spark:\n",
      "\n",
      "Total Spent per Customer:\n",
      "+-----------+------------------+\n",
      "|customer_id|       total_spent|\n",
      "+-----------+------------------+\n",
      "|       2509|            8313.9|\n",
      "|       3091|           1434.48|\n",
      "|       1677|           8188.18|\n",
      "|       1806|           8723.79|\n",
      "|        964|           4224.59|\n",
      "|       2529| 9000.920000000002|\n",
      "|       1697| 6885.150000000001|\n",
      "|       2453| 4683.469999999999|\n",
      "|       2214| 5053.049999999999|\n",
      "|         26|           3943.12|\n",
      "|       2250|           3011.79|\n",
      "|       1950|12108.449999999999|\n",
      "|         29|          10855.57|\n",
      "|       2040|3028.8900000000003|\n",
      "|        474|2107.8199999999997|\n",
      "|       2927| 4096.320000000001|\n",
      "|       1360|3476.3199999999997|\n",
      "|       3015|14529.949999999999|\n",
      "|         65|           8056.47|\n",
      "|       3280|11763.689999999999|\n",
      "+-----------+------------------+\n",
      "only showing top 20 rows\n",
      "\n",
      "\n",
      "Product Purchase Count:\n",
      "+----------+--------------+\n",
      "|product_id|purchase_count|\n",
      "+----------+--------------+\n",
      "|        26|           154|\n",
      "|        29|           180|\n",
      "|        65|           148|\n",
      "|        54|           195|\n",
      "|        19|           198|\n",
      "|         0|          1378|\n",
      "|        22|           175|\n",
      "|        77|           215|\n",
      "|         7|           194|\n",
      "|        34|           204|\n",
      "|        94|           149|\n",
      "|        50|           209|\n",
      "|        57|           173|\n",
      "|        32|           201|\n",
      "|        43|           216|\n",
      "|        84|           177|\n",
      "|        31|           190|\n",
      "|        39|           152|\n",
      "|        98|           156|\n",
      "|        25|           164|\n",
      "+----------+--------------+\n",
      "only showing top 20 rows\n",
      "\n",
      "\n",
      "Average Spent per Customer:\n",
      "+-----------+------------------+\n",
      "|customer_id|     average_spent|\n",
      "+-----------+------------------+\n",
      "|       2509|         1039.2375|\n",
      "|       3091|            717.24|\n",
      "|       1677|         1023.5225|\n",
      "|       1806|        1090.47375|\n",
      "|        964|           844.918|\n",
      "|       2529|1285.8457142857146|\n",
      "|       1697|1377.0300000000002|\n",
      "|       2453| 780.5783333333333|\n",
      "|       2214|1010.6099999999999|\n",
      "|         26|1314.3733333333332|\n",
      "|       2250|           1003.93|\n",
      "|       1950|1345.3833333333332|\n",
      "|         29|1206.1744444444444|\n",
      "|       2040|1514.4450000000002|\n",
      "|        474|1053.9099999999999|\n",
      "|       2927|1365.4400000000003|\n",
      "|       1360|1158.7733333333333|\n",
      "|       3015|          1452.995|\n",
      "|         65|1342.7450000000001|\n",
      "|       3280|1470.4612499999998|\n",
      "+-----------+------------------+\n",
      "only showing top 20 rows\n",
      "\n",
      "\n",
      "Transaction Count per Customer:\n",
      "+-----------+-----------------+\n",
      "|customer_id|transaction_count|\n",
      "+-----------+-----------------+\n",
      "|       2509|                8|\n",
      "|       3091|                2|\n",
      "|       1677|                8|\n",
      "|       1806|                8|\n",
      "|        964|                5|\n",
      "|       2529|                7|\n",
      "|       1697|                5|\n",
      "|       2453|                6|\n",
      "|       2214|                5|\n",
      "|         26|                3|\n",
      "|       2250|                3|\n",
      "|       1950|                9|\n",
      "|         29|                9|\n",
      "|       2040|                2|\n",
      "|        474|                2|\n",
      "|       2927|                3|\n",
      "|       1360|                3|\n",
      "|       3015|               10|\n",
      "|         65|                6|\n",
      "|       3280|                8|\n",
      "+-----------+-----------------+\n",
      "only showing top 20 rows\n",
      "\n"
     ]
    }
   ],
   "source": [
    "from spark import main\n",
    "main()"
   ]
  },
  {
   "cell_type": "markdown",
   "metadata": {},
   "source": [
    "### Algunas queries de prueba en neo4j (se ejecutan desde el browser de neo4j)"
   ]
  },
  {
   "cell_type": "markdown",
   "metadata": {},
   "source": [
    "#### 10 primeros customers ingresados"
   ]
  },
  {
   "cell_type": "code",
   "execution_count": null,
   "metadata": {},
   "outputs": [],
   "source": [
    "MATCH (c:Customer)\n",
    "RETURN c\n",
    "LIMIT 10"
   ]
  },
  {
   "cell_type": "markdown",
   "metadata": {},
   "source": [
    "#### 10 primeros productos ingresados"
   ]
  },
  {
   "cell_type": "code",
   "execution_count": null,
   "metadata": {},
   "outputs": [],
   "source": [
    "MATCH (p:Product)\n",
    "RETURN p\n",
    "LIMIT 10"
   ]
  },
  {
   "cell_type": "markdown",
   "metadata": {},
   "source": [
    "#### 10 primeras transacciones realizadas"
   ]
  },
  {
   "cell_type": "code",
   "execution_count": null,
   "metadata": {},
   "outputs": [],
   "source": [
    "MATCH (c:Customer)-[r:PURCHASED]->(p:Product)\n",
    "RETURN c, r, p\n",
    "LIMIT 10"
   ]
  },
  {
   "cell_type": "markdown",
   "metadata": {},
   "source": [
    " #### GastoTotal por Cliente: \n",
    " Calcular el monto total gastado por cada cliente en todas sus transacciones."
   ]
  },
  {
   "cell_type": "code",
   "execution_count": null,
   "metadata": {},
   "outputs": [],
   "source": [
    "MATCH (c:Customer)-[r:PURCHASED]->(p:Product)\n",
    "RETURN c.customer_id AS customer_id, SUM(r.transaction_amount) AS total_spent\n",
    "ORDER BY total_spent DESC"
   ]
  },
  {
   "cell_type": "markdown",
   "metadata": {},
   "source": [
    "#### Productos MásComprados:\n",
    "Contar la cantidad de veces que cada producto fue comprado."
   ]
  },
  {
   "cell_type": "code",
   "execution_count": null,
   "metadata": {},
   "outputs": [],
   "source": [
    "MATCH (c:Customer)-[r:PURCHASED]->(p:Product)\n",
    "RETURN p.product_id AS product_id, COUNT(r) AS purchase_count\n",
    "ORDER BY purchase_count DESC"
   ]
  },
  {
   "cell_type": "markdown",
   "metadata": {},
   "source": [
    "#### PromediodeGastoporCliente: \n",
    "Calcular el gasto promedio de cada cliente por transacción."
   ]
  },
  {
   "cell_type": "code",
   "execution_count": null,
   "metadata": {},
   "outputs": [],
   "source": [
    "MATCH (c:Customer)-[r:PURCHASED]->(p:Product)\n",
    "RETURN c.customer_id AS customer_id, AVG(r.transaction_amount) AS average_spent\n",
    "ORDER BY average_spent DESC"
   ]
  },
  {
   "cell_type": "markdown",
   "metadata": {},
   "source": [
    "####  Frecuencia de CompraporCliente: \n",
    "Determinar cuántas transacciones ha realizado cada cliente."
   ]
  },
  {
   "cell_type": "code",
   "execution_count": null,
   "metadata": {},
   "outputs": [],
   "source": [
    "MATCH (c:Customer)-[r:PURCHASED]->(p:Product)\n",
    "RETURN c.customer_id AS customer_id, COUNT(r) AS transaction_count\n",
    "ORDER BY transaction_count DESC"
   ]
  }
 ],
 "metadata": {
  "kernelspec": {
   "display_name": "Python 3",
   "language": "python",
   "name": "python3"
  },
  "language_info": {
   "codemirror_mode": {
    "name": "ipython",
    "version": 3
   },
   "file_extension": ".py",
   "mimetype": "text/x-python",
   "name": "python",
   "nbconvert_exporter": "python",
   "pygments_lexer": "ipython3",
   "version": "3.12.5"
  }
 },
 "nbformat": 4,
 "nbformat_minor": 2
}
